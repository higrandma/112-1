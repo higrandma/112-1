{
 "cells": [
  {
   "cell_type": "code",
   "execution_count": 3,
   "id": "3832650c",
   "metadata": {},
   "outputs": [],
   "source": [
    "#爬蟲參考網站 https://www.learncodewithmike.com/2020/06/how-to-scrape-different-pages-using-python-scraper.html\n",
    "from bs4 import BeautifulSoup \n",
    "import requests\n",
    "import pandas as pd"
   ]
  },
  {
   "cell_type": "code",
   "execution_count": 14,
   "id": "19671881",
   "metadata": {},
   "outputs": [
    {
     "name": "stdout",
     "output_type": "stream",
     "text": [
      "================第1頁===================\n",
      "ChatGPT 拉升 Bing Search 使用流量？9 成使用者仍習慣 Google 生活資訊\n",
      "終於！OpenAI 網頁瀏覽、超過 70 款外掛工具下週開放 Plus 用戶測試\n",
      "Stack Overflow 敵不過 ChatGPT，短短 1 個月流量驟減 32 萬！\n",
      "音樂版 ChatGPT 來了！ Google AI 音樂生成器 MusicLM 開放註冊使用 \n",
      "你知道 ChatGPT 怎麼運作嗎？OpenAI 用GPT-4 來理解 GPT-2 是什麼\n",
      "今晚好想吃燒肉？日美食網站開 ChatGPT 外掛、列名店清單還可直接訂位！\n",
      "ChatGPT 使用流量成長開始放緩，初期熱潮漸退去\n",
      "OpenAI Sam Altman：遠端工作是錯的，該結束了\n",
      "中國 AI 距離 ChatGPT 多遠？百度：有可能一直追不上\n",
      "OpenAI 2022 因開發 ChatGPT 虧損 5.4 億美元，但最終募資目標是 1,000 億\n",
      "================第2頁===================\n",
      "又是報稅季！ChatGPT 當節稅小老師？會計師事務所：先不要！\n",
      "ChatGPT 太好用！員工偷用 AI 工具恐成資安漏洞\n",
      "OpenAI 完成新一輪融資！傳估值達 270 億至 290 億美元\n",
      "機器狗會講話了！有工程師把 ChatGPT 裝上波士頓機器狗蹦出新滋味\n",
      "開會神器：日本新創用 ChatGPT＋Whisper，把 Google Meet 直接變白板便利貼\n",
      "OpenAI：開放選擇，讓你 ChatGPT 對話內容「可」不拿回去訓練 AI \n",
      "你的外語秘書已上線！ChatGPT 學英文、修文法、信件往來必學攻略\n",
      "一位加拿大老師「逆寫」ChatGPT，成功幫學生拿到劍橋獎學金\n",
      "日政府啟用 ChatGPT！今首度啟動跨部會「AI 戰略」會議\n",
      "拆解營運找書店危機解方！日 SaaS 商「freee」斜槓「透明書店」今開張，副店長是水母型 ChatGPT\n",
      "================第3頁===================\n",
      "【塞掐 Side Chat】E128｜馬斯克的 X Corp.、被 ChatGPT 教育、百萬 YouTuber 的創業終局\n",
      "日政府第一棒！農林水產省本月起將用 ChatGPT 更新申報說明書\n",
      "【就享知】科技轉角巷：ChatGPT 怎麼協助面向 ESG?\n",
      "佛羅里達大學金融學教授最新研究：ChatGPT 有機會預測股票走勢\n",
      "【塞掐 Side Chat】E124｜台版 ChatGPT 切入點、迪士尼砍元宇宙部、賣書佔 momo 不到 5% 營收\n",
      "義大利禁 ChatGPT 金管會： 國內銀行尚未使用ChatGPT 技術，兩個月內提方案\n",
      "吳政忠：人工智慧基本法盼 9 月提初步草案\n",
      "可汗學院創辦人 Sal Khan：生成式 AI 會是最好的個人化家教\n",
      "GPT-4 太強大，教育界如何因應 AI 衝擊？\n",
      "待解資安疑慮 金管會：已發函請金融業者注意 ChatGPT 風險\n",
      "================第4頁===================\n",
      "諾貝爾經濟學獎得主：AI 將讓人類周休三日\n",
      "金融領域專屬 ChatGPT！ 彭博開發由金融資料訓練而成的 BloombergGPT \n",
      "用話術逼 ChatGPT 洩密！資安專家示範規避道德限制\n",
      "開西方國家第一槍！義大利因隱私疑慮封鎖 ChatGPT \n",
      "首相 V.S. ChatGPT 質詢過招！岸田文雄：我回的比 AI 符合實況\n",
      "Google：不，我們沒有用 ChatGPT 訓練 Bard！\n",
      "AI 是否會取代工程師工作？實測 Copilot 、ChatGPT 經驗談\n",
      "不用再打字了！日本「電話 GPT」服務大爆發一通電話體驗多國語 GPT-4？\n",
      "霸主失血中！導入 ChatGPT 以來微軟 Bing 流量成長近 16% Google 已下降 1%\n",
      "突破限制！OpenAI 重磅推出 ChatGPT 外掛系統 可取得網路即時資料\n"
     ]
    }
   ],
   "source": [
    "# 執行1~4頁\n",
    "newslist = []\n",
    "\n",
    "for page in range(1,5):\n",
    "    #連結網站\n",
    "    response = requests.get(\"https://www.inside.com.tw/search/chatgpt?page=\" + str(page))\n",
    "    # HTML原始碼解析\n",
    "    soup = BeautifulSoup(response.text,\"html.parser\")\n",
    "    # 取得所有class為post_title的 <h3>\n",
    "    titles = soup.find_all(\"h3\",{\"class\":\"post_title\"})\n",
    "    \n",
    "    print(f\"================第{str(page)}頁===================\")\n",
    "    \n",
    "    for title in titles:\n",
    "        print(title.select_one(\"a\").getText()) #取得標題文字\n",
    "        \n",
    "        newstitle=title.select_one(\"a\").getText()\n",
    "        newslist.append(newstitle)"
   ]
  },
  {
   "cell_type": "code",
   "execution_count": 15,
   "id": "d22a3cc1",
   "metadata": {},
   "outputs": [
    {
     "name": "stdout",
     "output_type": "stream",
     "text": [
      "['ChatGPT 拉升 Bing Search 使用流量？9 成使用者仍習慣 Google 生活資訊', '終於！OpenAI 網頁瀏覽、超過 70 款外掛工具下週開放 Plus 用戶測試', 'Stack Overflow 敵不過 ChatGPT，短短 1 個月流量驟減 32 萬！', '音樂版 ChatGPT 來了！ Google AI 音樂生成器 MusicLM 開放註冊使用\\xa0', '你知道 ChatGPT 怎麼運作嗎？OpenAI 用GPT-4 來理解 GPT-2 是什麼', '今晚好想吃燒肉？日美食網站開 ChatGPT 外掛、列名店清單還可直接訂位！', 'ChatGPT 使用流量成長開始放緩，初期熱潮漸退去', 'OpenAI Sam Altman：遠端工作是錯的，該結束了', '中國 AI 距離 ChatGPT 多遠？百度：有可能一直追不上', 'OpenAI 2022 因開發 ChatGPT 虧損 5.4 億美元，但最終募資目標是 1,000 億', '又是報稅季！ChatGPT 當節稅小老師？會計師事務所：先不要！', 'ChatGPT 太好用！員工偷用 AI 工具恐成資安漏洞', 'OpenAI 完成新一輪融資！傳估值達 270 億至 290 億美元', '機器狗會講話了！有工程師把 ChatGPT 裝上波士頓機器狗蹦出新滋味', '開會神器：日本新創用 ChatGPT＋Whisper，把 Google Meet 直接變白板便利貼', 'OpenAI：開放選擇，讓你 ChatGPT 對話內容「可」不拿回去訓練 AI\\xa0', '你的外語秘書已上線！ChatGPT 學英文、修文法、信件往來必學攻略', '一位加拿大老師「逆寫」ChatGPT，成功幫學生拿到劍橋獎學金', '日政府啟用 ChatGPT！今首度啟動跨部會「AI 戰略」會議', '拆解營運找書店危機解方！日 SaaS 商「freee」斜槓「透明書店」今開張，副店長是水母型 ChatGPT', '【塞掐 Side Chat】E128｜馬斯克的 X Corp.、被 ChatGPT 教育、百萬 YouTuber 的創業終局', '日政府第一棒！農林水產省本月起將用 ChatGPT 更新申報說明書', '【就享知】科技轉角巷：ChatGPT 怎麼協助面向 ESG?', '佛羅里達大學金融學教授最新研究：ChatGPT 有機會預測股票走勢', '【塞掐 Side Chat】E124｜台版 ChatGPT 切入點、迪士尼砍元宇宙部、賣書佔 momo 不到 5% 營收', '義大利禁 ChatGPT 金管會： 國內銀行尚未使用ChatGPT 技術，兩個月內提方案', '吳政忠：人工智慧基本法盼 9 月提初步草案', '可汗學院創辦人 Sal Khan：生成式 AI 會是最好的個人化家教', 'GPT-4 太強大，教育界如何因應 AI 衝擊？', '待解資安疑慮 金管會：已發函請金融業者注意 ChatGPT 風險', '諾貝爾經濟學獎得主：AI 將讓人類周休三日', '金融領域專屬 ChatGPT！\\xa0彭博開發由金融資料訓練而成的 BloombergGPT\\xa0', '用話術逼 ChatGPT 洩密！資安專家示範規避道德限制', '開西方國家第一槍！義大利因隱私疑慮封鎖 ChatGPT\\xa0', '首相 V.S. ChatGPT 質詢過招！岸田文雄：我回的比 AI 符合實況', 'Google：不，我們沒有用 ChatGPT 訓練 Bard！', 'AI 是否會取代工程師工作？實測 Copilot 、ChatGPT 經驗談', '不用再打字了！日本「電話 GPT」服務大爆發一通電話體驗多國語 GPT-4？', '霸主失血中！導入 ChatGPT 以來微軟 Bing 流量成長近 16% Google 已下降 1%', '突破限制！OpenAI 重磅推出 ChatGPT 外掛系統 可取得網路即時資料']\n"
     ]
    }
   ],
   "source": [
    "print(newslist)"
   ]
  },
  {
   "cell_type": "code",
   "execution_count": 21,
   "id": "b034fb85",
   "metadata": {},
   "outputs": [],
   "source": [
    "import json\n",
    "\n",
    "# 存成 json檔並下載\n",
    "\n",
    "with open('newslist.json', 'w', encoding='utf-8') as file:\n",
    "    json.dump(newslist, file, ensure_ascii=False)  "
   ]
  },
  {
   "cell_type": "code",
   "execution_count": 23,
   "id": "d2ec6c5f",
   "metadata": {},
   "outputs": [
    {
     "data": {
      "text/plain": [
       "['ChatGPT 拉升 Bing Search 使用流量？9 成使用者仍習慣 Google 生活資訊',\n",
       " '終於！OpenAI 網頁瀏覽、超過 70 款外掛工具下週開放 Plus 用戶測試',\n",
       " 'Stack Overflow 敵不過 ChatGPT，短短 1 個月流量驟減 32 萬！',\n",
       " '音樂版 ChatGPT 來了！ Google AI 音樂生成器 MusicLM 開放註冊使用\\xa0',\n",
       " '你知道 ChatGPT 怎麼運作嗎？OpenAI 用GPT-4 來理解 GPT-2 是什麼',\n",
       " '今晚好想吃燒肉？日美食網站開 ChatGPT 外掛、列名店清單還可直接訂位！',\n",
       " 'ChatGPT 使用流量成長開始放緩，初期熱潮漸退去',\n",
       " 'OpenAI Sam Altman：遠端工作是錯的，該結束了',\n",
       " '中國 AI 距離 ChatGPT 多遠？百度：有可能一直追不上',\n",
       " 'OpenAI 2022 因開發 ChatGPT 虧損 5.4 億美元，但最終募資目標是 1,000 億',\n",
       " '又是報稅季！ChatGPT 當節稅小老師？會計師事務所：先不要！',\n",
       " 'ChatGPT 太好用！員工偷用 AI 工具恐成資安漏洞',\n",
       " 'OpenAI 完成新一輪融資！傳估值達 270 億至 290 億美元',\n",
       " '機器狗會講話了！有工程師把 ChatGPT 裝上波士頓機器狗蹦出新滋味',\n",
       " '開會神器：日本新創用 ChatGPT＋Whisper，把 Google Meet 直接變白板便利貼',\n",
       " 'OpenAI：開放選擇，讓你 ChatGPT 對話內容「可」不拿回去訓練 AI\\xa0',\n",
       " '你的外語秘書已上線！ChatGPT 學英文、修文法、信件往來必學攻略',\n",
       " '一位加拿大老師「逆寫」ChatGPT，成功幫學生拿到劍橋獎學金',\n",
       " '日政府啟用 ChatGPT！今首度啟動跨部會「AI 戰略」會議',\n",
       " '拆解營運找書店危機解方！日 SaaS 商「freee」斜槓「透明書店」今開張，副店長是水母型 ChatGPT',\n",
       " '【塞掐 Side Chat】E128｜馬斯克的 X Corp.、被 ChatGPT 教育、百萬 YouTuber 的創業終局',\n",
       " '日政府第一棒！農林水產省本月起將用 ChatGPT 更新申報說明書',\n",
       " '【就享知】科技轉角巷：ChatGPT 怎麼協助面向 ESG?',\n",
       " '佛羅里達大學金融學教授最新研究：ChatGPT 有機會預測股票走勢',\n",
       " '【塞掐 Side Chat】E124｜台版 ChatGPT 切入點、迪士尼砍元宇宙部、賣書佔 momo 不到 5% 營收',\n",
       " '義大利禁 ChatGPT 金管會： 國內銀行尚未使用ChatGPT 技術，兩個月內提方案',\n",
       " '吳政忠：人工智慧基本法盼 9 月提初步草案',\n",
       " '可汗學院創辦人 Sal Khan：生成式 AI 會是最好的個人化家教',\n",
       " 'GPT-4 太強大，教育界如何因應 AI 衝擊？',\n",
       " '待解資安疑慮 金管會：已發函請金融業者注意 ChatGPT 風險',\n",
       " '諾貝爾經濟學獎得主：AI 將讓人類周休三日',\n",
       " '金融領域專屬 ChatGPT！\\xa0彭博開發由金融資料訓練而成的 BloombergGPT\\xa0',\n",
       " '用話術逼 ChatGPT 洩密！資安專家示範規避道德限制',\n",
       " '開西方國家第一槍！義大利因隱私疑慮封鎖 ChatGPT\\xa0',\n",
       " '首相 V.S. ChatGPT 質詢過招！岸田文雄：我回的比 AI 符合實況',\n",
       " 'Google：不，我們沒有用 ChatGPT 訓練 Bard！',\n",
       " 'AI 是否會取代工程師工作？實測 Copilot 、ChatGPT 經驗談',\n",
       " '不用再打字了！日本「電話 GPT」服務大爆發一通電話體驗多國語 GPT-4？',\n",
       " '霸主失血中！導入 ChatGPT 以來微軟 Bing 流量成長近 16% Google 已下降 1%',\n",
       " '突破限制！OpenAI 重磅推出 ChatGPT 外掛系統 可取得網路即時資料']"
      ]
     },
     "execution_count": 23,
     "metadata": {},
     "output_type": "execute_result"
    }
   ],
   "source": [
    "# 開啟檔案\n",
    "\n",
    "with open('newslist.json', 'r', encoding='utf-8') as file:\n",
    "    \n",
    "    # 將JSON文件讀取為Python dict物件\n",
    "    \n",
    "    data = json.load(file)\n",
    "data"
   ]
  },
  {
   "cell_type": "code",
   "execution_count": null,
   "id": "bf56512e",
   "metadata": {},
   "outputs": [],
   "source": []
  }
 ],
 "metadata": {
  "kernelspec": {
   "display_name": "Python 3 (ipykernel)",
   "language": "python",
   "name": "python3"
  },
  "language_info": {
   "codemirror_mode": {
    "name": "ipython",
    "version": 3
   },
   "file_extension": ".py",
   "mimetype": "text/x-python",
   "name": "python",
   "nbconvert_exporter": "python",
   "pygments_lexer": "ipython3",
   "version": "3.9.13"
  }
 },
 "nbformat": 4,
 "nbformat_minor": 5
}
