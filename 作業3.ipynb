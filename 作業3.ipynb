{
 "cells": [
  {
   "cell_type": "code",
   "execution_count": 11,
   "id": "3832650c",
   "metadata": {},
   "outputs": [
    {
     "name": "stdout",
     "output_type": "stream",
     "text": [
      "\t\t\t\n"
     ]
    }
   ],
   "source": [
    "import requests\n",
    "from bs4 import BeautifulSoup\n",
    "\n",
    "import requests \n",
    "import json\n",
    "import time\n",
    "from time import sleep\n",
    "import pandas as pd\n",
    "\n",
    "\n",
    "\n",
    "# 要爬取的網址\n",
    "url = 'https://www.coa.gov.tw/ws.php?id=10429'\n",
    "\n",
    "# 發送 HTTP 請求\n",
    "res = requests.get(url)\n",
    "res.encoding = 'utf-8'\n",
    "html = res.text\n",
    "\n",
    "# 解析 HTML 程式碼\n",
    "soup = BeautifulSoup(html, 'html.parser')\n",
    "\n",
    "# 取得所有的表格內容\n",
    "table = soup.find_all('table')[0]\n",
    "\n",
    "# 取得表格的所有列\n",
    "rows = table.find_all('tr')\n",
    "\n",
    "# 逐一輸出每一列的欄位值\n",
    "for row in rows:\n",
    "    cols = row.find_all('td')\n",
    "    cols = [col.text.strip() for col in cols]\n",
    "    print('\\t'.join(cols))\n"
   ]
  },
  {
   "cell_type": "code",
   "execution_count": 10,
   "id": "dbfa0b5c",
   "metadata": {},
   "outputs": [],
   "source": []
  },
  {
   "cell_type": "code",
   "execution_count": null,
   "id": "468f1337",
   "metadata": {},
   "outputs": [],
   "source": []
  }
 ],
 "metadata": {
  "kernelspec": {
   "display_name": "Python 3 (ipykernel)",
   "language": "python",
   "name": "python3"
  },
  "language_info": {
   "codemirror_mode": {
    "name": "ipython",
    "version": 3
   },
   "file_extension": ".py",
   "mimetype": "text/x-python",
   "name": "python",
   "nbconvert_exporter": "python",
   "pygments_lexer": "ipython3",
   "version": "3.9.13"
  }
 },
 "nbformat": 4,
 "nbformat_minor": 5
}
