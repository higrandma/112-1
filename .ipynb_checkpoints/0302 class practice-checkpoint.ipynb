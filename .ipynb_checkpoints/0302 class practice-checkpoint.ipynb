{
 "cells": [
  {
   "cell_type": "code",
   "execution_count": 12,
   "id": "bd07ccfc",
   "metadata": {
    "scrolled": true
   },
   "outputs": [],
   "source": [
    "import pandas as pd #使用pandas套件\n",
    "\n",
    "# read csv file\n",
    "\n",
    "allpark = pd.read_csv(\"allpark.csv\", encoding = 'big5') #csv存在同一個資料夾 ＃強制編碼改成big5\n",
    "adoptedpark = pd.read_csv(\"adoptedpark.csv\", encoding = 'big5')\n"
   ]
  },
  {
   "cell_type": "code",
   "execution_count": 9,
   "id": "8358c9af",
   "metadata": {},
   "outputs": [
    {
     "data": {
      "text/html": [
       "<div>\n",
       "<style scoped>\n",
       "    .dataframe tbody tr th:only-of-type {\n",
       "        vertical-align: middle;\n",
       "    }\n",
       "\n",
       "    .dataframe tbody tr th {\n",
       "        vertical-align: top;\n",
       "    }\n",
       "\n",
       "    .dataframe thead th {\n",
       "        text-align: right;\n",
       "    }\n",
       "</style>\n",
       "<table border=\"1\" class=\"dataframe\">\n",
       "  <thead>\n",
       "    <tr style=\"text-align: right;\">\n",
       "      <th></th>\n",
       "      <th>序號</th>\n",
       "      <th>行政區</th>\n",
       "      <th>公園名稱</th>\n",
       "      <th>位置</th>\n",
       "      <th>傳統遊具</th>\n",
       "      <th>特色或共融式遊具</th>\n",
       "    </tr>\n",
       "  </thead>\n",
       "  <tbody>\n",
       "    <tr>\n",
       "      <th>0</th>\n",
       "      <td>1</td>\n",
       "      <td>北區</td>\n",
       "      <td>湳雅公園</td>\n",
       "      <td>武陵路、湳雅街</td>\n",
       "      <td>組合遊具組溜滑梯1座、雙人翹翹板2座、單人翹翹板4座</td>\n",
       "      <td>無</td>\n",
       "    </tr>\n",
       "    <tr>\n",
       "      <th>1</th>\n",
       "      <td>2</td>\n",
       "      <td>北區</td>\n",
       "      <td>金雅廣場</td>\n",
       "      <td>金雅街、金雅三街</td>\n",
       "      <td>組合遊具組溜滑梯1座、雙人搖搖馬2座</td>\n",
       "      <td>無</td>\n",
       "    </tr>\n",
       "    <tr>\n",
       "      <th>2</th>\n",
       "      <td>3</td>\n",
       "      <td>北區</td>\n",
       "      <td>金雅兒童公園</td>\n",
       "      <td>金雅東街</td>\n",
       "      <td>攀爬遊具組1座</td>\n",
       "      <td>無</td>\n",
       "    </tr>\n",
       "    <tr>\n",
       "      <th>3</th>\n",
       "      <td>4</td>\n",
       "      <td>北區</td>\n",
       "      <td>金雅公園</td>\n",
       "      <td>金雅東街、金雅七街</td>\n",
       "      <td>無</td>\n",
       "      <td>無</td>\n",
       "    </tr>\n",
       "    <tr>\n",
       "      <th>4</th>\n",
       "      <td>5</td>\n",
       "      <td>北區</td>\n",
       "      <td>金雅親子公園</td>\n",
       "      <td>金雅路133巷15弄</td>\n",
       "      <td>組合遊具組溜滑梯1座</td>\n",
       "      <td>無</td>\n",
       "    </tr>\n",
       "  </tbody>\n",
       "</table>\n",
       "</div>"
      ],
      "text/plain": [
       "   序號 行政區    公園名稱          位置                        傳統遊具 特色或共融式遊具\n",
       "0   1  北區    湳雅公園     武陵路、湳雅街  組合遊具組溜滑梯1座、雙人翹翹板2座、單人翹翹板4座        無\n",
       "1   2  北區    金雅廣場    金雅街、金雅三街          組合遊具組溜滑梯1座、雙人搖搖馬2座        無\n",
       "2   3  北區  金雅兒童公園        金雅東街                     攀爬遊具組1座        無\n",
       "3   4  北區    金雅公園   金雅東街、金雅七街                           無        無\n",
       "4   5  北區  金雅親子公園  金雅路133巷15弄                  組合遊具組溜滑梯1座        無"
      ]
     },
     "execution_count": 9,
     "metadata": {},
     "output_type": "execute_result"
    }
   ],
   "source": [
    "allpark.head() #列出檔案前5個"
   ]
  },
  {
   "cell_type": "code",
   "execution_count": 13,
   "id": "9684e8e7",
   "metadata": {},
   "outputs": [
    {
     "data": {
      "text/html": [
       "<div>\n",
       "<style scoped>\n",
       "    .dataframe tbody tr th:only-of-type {\n",
       "        vertical-align: middle;\n",
       "    }\n",
       "\n",
       "    .dataframe tbody tr th {\n",
       "        vertical-align: top;\n",
       "    }\n",
       "\n",
       "    .dataframe thead th {\n",
       "        text-align: right;\n",
       "    }\n",
       "</style>\n",
       "<table border=\"1\" class=\"dataframe\">\n",
       "  <thead>\n",
       "    <tr style=\"text-align: right;\">\n",
       "      <th></th>\n",
       "      <th>序號</th>\n",
       "      <th>分區</th>\n",
       "      <th>認養場地</th>\n",
       "      <th>認養機關團體</th>\n",
       "    </tr>\n",
       "  </thead>\n",
       "  <tbody>\n",
       "    <tr>\n",
       "      <th>22</th>\n",
       "      <td>23</td>\n",
       "      <td>北區</td>\n",
       "      <td>中山段二小段55-3_北大路201號</td>\n",
       "      <td>興築建設股份有限公司</td>\n",
       "    </tr>\n",
       "    <tr>\n",
       "      <th>23</th>\n",
       "      <td>24</td>\n",
       "      <td>東區</td>\n",
       "      <td>新竹公園_部B-域櫻花維護管理</td>\n",
       "      <td>新竹市育櫻會楊根棟</td>\n",
       "    </tr>\n",
       "    <tr>\n",
       "      <th>24</th>\n",
       "      <td>25</td>\n",
       "      <td>風景區</td>\n",
       "      <td>水資源公園</td>\n",
       "      <td>新竹市槌球運動推廣協會洪建雄</td>\n",
       "    </tr>\n",
       "    <tr>\n",
       "      <th>25</th>\n",
       "      <td>26</td>\n",
       "      <td>風景區</td>\n",
       "      <td>紅樹林公園</td>\n",
       "      <td>新竹市社區環境關懷協會</td>\n",
       "    </tr>\n",
       "    <tr>\n",
       "      <th>26</th>\n",
       "      <td>27</td>\n",
       "      <td>北區</td>\n",
       "      <td>南寮運動公園足球場</td>\n",
       "      <td>新竹市社區足球發展協會</td>\n",
       "    </tr>\n",
       "  </tbody>\n",
       "</table>\n",
       "</div>"
      ],
      "text/plain": [
       "    序號   分區                認養場地          認養機關團體\n",
       "22  23   北區  中山段二小段55-3_北大路201號      興築建設股份有限公司\n",
       "23  24   東區     新竹公園_部B-域櫻花維護管理       新竹市育櫻會楊根棟\n",
       "24  25  風景區               水資源公園  新竹市槌球運動推廣協會洪建雄\n",
       "25  26  風景區               紅樹林公園     新竹市社區環境關懷協會\n",
       "26  27   北區           南寮運動公園足球場     新竹市社區足球發展協會"
      ]
     },
     "execution_count": 13,
     "metadata": {},
     "output_type": "execute_result"
    }
   ],
   "source": [
    "adoptedpark.tail() #列出檔案後5個"
   ]
  },
  {
   "cell_type": "code",
   "execution_count": 14,
   "id": "609e7395",
   "metadata": {},
   "outputs": [
    {
     "data": {
      "text/html": [
       "<div>\n",
       "<style scoped>\n",
       "    .dataframe tbody tr th:only-of-type {\n",
       "        vertical-align: middle;\n",
       "    }\n",
       "\n",
       "    .dataframe tbody tr th {\n",
       "        vertical-align: top;\n",
       "    }\n",
       "\n",
       "    .dataframe thead th {\n",
       "        text-align: right;\n",
       "    }\n",
       "</style>\n",
       "<table border=\"1\" class=\"dataframe\">\n",
       "  <thead>\n",
       "    <tr style=\"text-align: right;\">\n",
       "      <th></th>\n",
       "      <th>序號</th>\n",
       "      <th>分區</th>\n",
       "      <th>認養場地</th>\n",
       "      <th>認養機關團體</th>\n",
       "    </tr>\n",
       "  </thead>\n",
       "  <tbody>\n",
       "    <tr>\n",
       "      <th>0</th>\n",
       "      <td>1</td>\n",
       "      <td>東區</td>\n",
       "      <td>金山六街10巷38號旁綠地</td>\n",
       "      <td>奕葉國際有限公司</td>\n",
       "    </tr>\n",
       "    <tr>\n",
       "      <th>1</th>\n",
       "      <td>2</td>\n",
       "      <td>北區</td>\n",
       "      <td>福林里親子公園</td>\n",
       "      <td>新竹市北區福林里</td>\n",
       "    </tr>\n",
       "    <tr>\n",
       "      <th>2</th>\n",
       "      <td>3</td>\n",
       "      <td>東區</td>\n",
       "      <td>新竹市後站公園</td>\n",
       "      <td>新竹市後站發展促進會</td>\n",
       "    </tr>\n",
       "    <tr>\n",
       "      <th>3</th>\n",
       "      <td>4</td>\n",
       "      <td>東區</td>\n",
       "      <td>親子公園</td>\n",
       "      <td>新竹市深耕關懷協會</td>\n",
       "    </tr>\n",
       "    <tr>\n",
       "      <th>4</th>\n",
       "      <td>5</td>\n",
       "      <td>東區</td>\n",
       "      <td>愛民公園</td>\n",
       "      <td>新竹市深耕關懷協會</td>\n",
       "    </tr>\n",
       "  </tbody>\n",
       "</table>\n",
       "</div>"
      ],
      "text/plain": [
       "   序號  分區           認養場地      認養機關團體\n",
       "0   1  東區  金山六街10巷38號旁綠地    奕葉國際有限公司\n",
       "1   2  北區        福林里親子公園    新竹市北區福林里\n",
       "2   3  東區        新竹市後站公園  新竹市後站發展促進會\n",
       "3   4  東區           親子公園   新竹市深耕關懷協會\n",
       "4   5  東區           愛民公園   新竹市深耕關懷協會"
      ]
     },
     "execution_count": 14,
     "metadata": {},
     "output_type": "execute_result"
    }
   ],
   "source": [
    "final_df = adoptedpark.drop_duplicates(subset=['認養場地'])#重複場地去掉\n",
    "final_df.head()"
   ]
  },
  {
   "cell_type": "code",
   "execution_count": 30,
   "id": "1f424d4e",
   "metadata": {},
   "outputs": [
    {
     "name": "stdout",
     "output_type": "stream",
     "text": [
      "全部公園： 97 vs. 已認養公園（綠地): 27\n"
     ]
    }
   ],
   "source": [
    "allpark = list(allpark)#只要顯示名稱 #事件要有唯一性和差異性\n",
    "adoptedpark = list(adoptedpark)\n",
    "print(\"全部公園：\",len(allpark), \"vs. 已認養公園（綠地):\",len(adoptedpark))"
   ]
  },
  {
   "cell_type": "code",
   "execution_count": 38,
   "id": "19d978bb",
   "metadata": {},
   "outputs": [
    {
     "name": "stdout",
     "output_type": "stream",
     "text": [
      "已登記造冊且被認養的公園（綠地）\n",
      "{'忠孝公園', '北新公園', '櫻花公園', '康樂公園', '台溪公園', '港南小公園', '愛民公園', '長和公園', '頂福公園', '民享公園', '凌雲公園'}\n",
      "共有: 11 個\n"
     ]
    }
   ],
   "source": [
    "#交集 -->有在公園清單且被認養的綠地\n",
    "\n",
    "s1 = set(allpark) #取交集要用set\n",
    "s2 = set(adoptedpark)\n",
    "print('已登記造冊且被認養的公園（綠地）')\n",
    "print(s1&s2)\n",
    "print('共有:',len(s1&s2),'個')"
   ]
  },
  {
   "cell_type": "code",
   "execution_count": 37,
   "id": "9ca22224",
   "metadata": {},
   "outputs": [
    {
     "name": "stdout",
     "output_type": "stream",
     "text": [
      "所有公園（綠地)\n",
      "{'十七公里-南港賞鳥區', '建功高中前園道五', '科學園路公園', '中埔公園', '金雅兒童公園', '台溪公園', '明湖公園', '埔前公園', '仙水公園（仙水里綠地）', '綠水里市有公園', '建國公園', '興學公園', '光復公園', '中清公園', '蟹仔埔公園', '武陵櫻花公園', '金山六街10巷38號旁綠地', '中山段二小段55-3_北大路201號', '金山面公園', '三民公園', '香山公園', '公兒四公園', '光復文化公園（蔡氏門樓）', '龍山公園', '十七公里-紅樹林公園', '紅樹林公園', '中央公園', '忠孝公園', '天公壇公園', '仙宮公園', '金山東街旁公園', '高峰公25公園', '光武段1065號', '湳雅公園', '金雅廣場', '三民綠園道（隆恩圳）三民路、（東大路至民主路）', '科園親子公園', '新莊公園', '凌雲公園', '牛埔東公園', '美森公園', '櫻花公園', '福林公園', '牛埔公園', '金山十一街旁公園', '頂福公園', '建功里園道五', '民享公園', '新竹綠園道', '新竹市後站公園', '東光公園', '民族公園', '康樂公園', '水資源公園', '親子公園', '北新公園', '長興公園', '新興公園', '愛民公園', '馬偕醫院旁園道五', '金雅段317、321地號_近金雅西街80巷', '十七公里-風情海岸', '中光公園', '高翠公園', '建華、東山及綠水里汀甫圳步道', '一品公園', '南大公園', '福林里親子公園', '和平公園', '大庄公園', '樹林頭公園', '建功一路59巷26號前綠地', '福林重劃公園', '祥園公園', '港南小公園', '興南公園', '頂竹圍公園', '西雅公園', '馬偕公園', '新竹公園_部B-域櫻花維護管理', '東南公園_光復段地號693-2號', '民富公園', '長春公園', '新竹公園', '立功里園道五', '金雅親子公園', '東區濕地生態教學公園', '金山公園', '火車站前廣場', '二二八紀念公園', '頂埔公園', '赤土崎公園', '高峰植物園', '十七公里-水資源公園', '長青公園', '建功一路旁園道五', '關埔公園', '關東公園', '港北崇和公園', '金雅公園', '長和公園', '關新公園（原日光公園）', '金山六街旁公園', '綠光公園', '後站公園', '南門公園', '十八尖山森林公園', '鹽水公園', '南寮運動公園足球場', '南勢重劃公園', '台溪親子公園', '南湖段1068號'}\n"
     ]
    },
    {
     "ename": "NameError",
     "evalue": "name '個' is not defined",
     "output_type": "error",
     "traceback": [
      "\u001b[0;31m---------------------------------------------------------------------------\u001b[0m",
      "\u001b[0;31mNameError\u001b[0m                                 Traceback (most recent call last)",
      "\u001b[0;32m/var/folders/3w/gzrpckg15gj1cxgt9k1py7m40000gn/T/ipykernel_2502/3818016100.py\u001b[0m in \u001b[0;36m<module>\u001b[0;34m\u001b[0m\n\u001b[1;32m      3\u001b[0m \u001b[0mprint\u001b[0m\u001b[0;34m(\u001b[0m\u001b[0;34m'所有公園（綠地)'\u001b[0m\u001b[0;34m)\u001b[0m\u001b[0;34m\u001b[0m\u001b[0;34m\u001b[0m\u001b[0m\n\u001b[1;32m      4\u001b[0m \u001b[0mprint\u001b[0m\u001b[0;34m(\u001b[0m\u001b[0ms1\u001b[0m\u001b[0;34m|\u001b[0m\u001b[0ms2\u001b[0m\u001b[0;34m)\u001b[0m\u001b[0;34m\u001b[0m\u001b[0;34m\u001b[0m\u001b[0m\n\u001b[0;32m----> 5\u001b[0;31m \u001b[0mprint\u001b[0m\u001b[0;34m(\u001b[0m\u001b[0;34m'共有:'\u001b[0m\u001b[0;34m,\u001b[0m\u001b[0mlen\u001b[0m\u001b[0;34m(\u001b[0m\u001b[0ms1\u001b[0m\u001b[0;34m|\u001b[0m\u001b[0ms2\u001b[0m\u001b[0;34m)\u001b[0m\u001b[0;34m,\u001b[0m\u001b[0m個\u001b[0m\u001b[0;34m)\u001b[0m\u001b[0;34m\u001b[0m\u001b[0;34m\u001b[0m\u001b[0m\n\u001b[0m",
      "\u001b[0;31mNameError\u001b[0m: name '個' is not defined"
     ]
    }
   ],
   "source": [
    "#聯集 --> 所有公園和綠地\n",
    "\n",
    "print('所有公園（綠地)')\n",
    "print(s1|s2)\n",
    "print('共有:',len(s1|s2),\"個\")"
   ]
  },
  {
   "cell_type": "code",
   "execution_count": 39,
   "id": "65c6c737",
   "metadata": {},
   "outputs": [
    {
     "name": "stdout",
     "output_type": "stream",
     "text": [
      "已登記造冊但未被認養的綠地\n",
      "{'十七公里-南港賞鳥區', '建功高中前園道五', '中埔公園', '埔前公園', '仙水公園（仙水里綠地）', '興學公園', '光復公園', '金山面公園', '香山公園', '公兒四公園', '光復文化公園（蔡氏門樓）', '龍山公園', '中央公園', '金山東街旁公園', '金雅廣場', '福林公園', '牛埔公園', '金山十一街旁公園', '民族公園', '馬偕醫院旁園道五', '十七公里-風情海岸', '高翠公園', '建華、東山及綠水里汀甫圳步道', '一品公園', '南大公園', '和平公園', '樹林頭公園', '福林重劃公園', '祥園公園', '民富公園', '新竹公園', '東區濕地生態教學公園', '火車站前廣場', '二二八紀念公園', '頂埔公園', '關埔公園', '港北崇和公園', '後站公園', '南勢重劃公園', '台溪親子公園', '金雅兒童公園', '明湖公園', '綠水里市有公園', '建國公園', '中清公園', '蟹仔埔公園', '武陵櫻花公園', '三民公園', '十七公里-紅樹林公園', '天公壇公園', '仙宮公園', '高峰公25公園', '湳雅公園', '三民綠園道（隆恩圳）三民路、（東大路至民主路）', '科園親子公園', '新莊公園', '牛埔東公園', '美森公園', '建功里園道五', '新竹綠園道', '東光公園', '長興公園', '新興公園', '中光公園', '大庄公園', '興南公園', '頂竹圍公園', '西雅公園', '馬偕公園', '長春公園', '立功里園道五', '金雅親子公園', '金山公園', '赤土崎公園', '高峰植物園', '十七公里-水資源公園', '長青公園', '建功一路旁園道五', '關東公園', '金雅公園', '關新公園（原日光公園）', '金山六街旁公園', '南門公園', '十八尖山森林公園', '鹽水公園'}\n",
      "共有: 85 個\n"
     ]
    }
   ],
   "source": [
    "#差集 -->有在公園清單但沒被認養的綠地\n",
    "\n",
    "print('已登記造冊但未被認養的綠地')\n",
    "print(s1-s2)\n",
    "print('共有:',len(s1-s2),\"個\")"
   ]
  },
  {
   "cell_type": "code",
   "execution_count": null,
   "id": "87c3a338",
   "metadata": {},
   "outputs": [],
   "source": []
  }
 ],
 "metadata": {
  "kernelspec": {
   "display_name": "Python 3 (ipykernel)",
   "language": "python",
   "name": "python3"
  },
  "language_info": {
   "codemirror_mode": {
    "name": "ipython",
    "version": 3
   },
   "file_extension": ".py",
   "mimetype": "text/x-python",
   "name": "python",
   "nbconvert_exporter": "python",
   "pygments_lexer": "ipython3",
   "version": "3.9.13"
  }
 },
 "nbformat": 4,
 "nbformat_minor": 5
}
