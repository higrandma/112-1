{
 "cells": [
  {
   "cell_type": "code",
   "execution_count": 1,
   "id": "793e0de2",
   "metadata": {},
   "outputs": [],
   "source": [
    "from bs4 import BeautifulSoup\n",
    "import requests"
   ]
  },
  {
   "cell_type": "code",
   "execution_count": 2,
   "id": "15654a6a",
   "metadata": {},
   "outputs": [],
   "source": [
    "#掛上 headers 模擬使用者讀取網路的行為\n",
    "headers = {'User-Agent': 'Mozilla/5.0 (Windows NT 10.0; Win64; x64) AppleWebKit/537.36 (KHTML, like Gecko) Chrome/81.0.4044.92 Safari/537.36'}"
   ]
  },
  {
   "cell_type": "code",
   "execution_count": 3,
   "id": "43a91638",
   "metadata": {},
   "outputs": [],
   "source": [
    "#目標網站\n",
    "url = 'http://www.pttweb.cc/hot/news/today'"
   ]
  },
  {
   "cell_type": "code",
   "execution_count": 10,
   "id": "03bb13f7",
   "metadata": {},
   "outputs": [],
   "source": [
    "#發出get請求\n",
    "resp = requests.get(url)"
   ]
  },
  {
   "cell_type": "code",
   "execution_count": 11,
   "id": "0fd9b0f2",
   "metadata": {},
   "outputs": [],
   "source": [
    "#網頁編碼\n",
    "resp.encoding = 'utf-8'"
   ]
  },
  {
   "cell_type": "code",
   "execution_count": 13,
   "id": "7c7afaa8",
   "metadata": {},
   "outputs": [],
   "source": [
    "#網頁解析\n",
    "soup = BeautifulSoup(resp.text, 'html.parser')"
   ]
  },
  {
   "cell_type": "code",
   "execution_count": 15,
   "id": "1390be25",
   "metadata": {},
   "outputs": [],
   "source": [
    "#找出所有 div區塊中 帶有class名的元素\n",
    "divs = soup.find_all('div','e7-right-top-container e7-no-outline-all-descendants')"
   ]
  },
  {
   "cell_type": "code",
   "execution_count": 16,
   "id": "448a229f",
   "metadata": {},
   "outputs": [],
   "source": [
    "#新增list存取爬下來的東西\n",
    "articles =[]\n",
    "\n",
    "#換網站爬文章內容\n",
    "root = 'http://www.ppt.cc'\n",
    "\n",
    "#divs中的個區塊取出需要的元素\n",
    "for div in divs:\n",
    "    link = div.find('a')['href']\n",
    "    \n",
    "    #文章標題\n",
    "    title = div.find('span', 'e7-show-if-device-is-not-xs').text\n",
    "    articles.append({\n",
    "        # 文章標題中的全形空白編碼以空白取代\n",
    "        'title':title.replace('\\u3000', ' '),\n",
    "        'link':root + link + '.html'\n",
    "    })"
   ]
  },
  {
   "cell_type": "code",
   "execution_count": 17,
   "id": "44c19630",
   "metadata": {},
   "outputs": [
    {
     "data": {
      "text/plain": [
       "[{'title': '[新聞] 美麗島最新總統民調出爐！侯友宜支持度剩18.3%崩盤 被柯文哲彎道超車逾7%',\n",
       "  'link': 'http://www.ppt.cc/bbs/Gossiping/M.1685347784.A.53F.html'},\n",
       " {'title': '[新聞] 柯文哲雙城107萬呆帳 陳佩琪：開罰單來我去繳',\n",
       "  'link': 'http://www.ppt.cc/bbs/Gossiping/M.1685364192.A.F90.html'},\n",
       " {'title': '[新聞] 正妹遭「大外割壓制」趴地上銬！胸前春光全炸出 失控嗆警原因曝',\n",
       "  'link': 'http://www.ppt.cc/bbs/Gossiping/M.1685328784.A.4C7.html'},\n",
       " {'title': '[新聞] 快訊／立院三讀修正《再生能源條例》 改建建築應設太陽光電',\n",
       "  'link': 'http://www.ppt.cc/bbs/Gossiping/M.1685325559.A.DED.html'},\n",
       " {'title': '[新聞] 李坤城妹妹首度出面！控林靖恩偷結婚 爆料她「夫逝後行徑」',\n",
       "  'link': 'http://www.ppt.cc/bbs/Gossiping/M.1685323718.A.40D.html'},\n",
       " {'title': '[新聞] 任賢齊22年前曾救她一命！女孩現身演唱會致謝…全場感動歡呼',\n",
       "  'link': 'http://www.ppt.cc/bbs/Gossiping/M.1685368551.A.CB6.html'},\n",
       " {'title': '[新聞] 網喊《上班不要看》弄好看點！ 呱吉「理智線秒斷」怒槓：靠北什麼',\n",
       "  'link': 'http://www.ppt.cc/bbs/Gossiping/M.1685358194.A.7C5.html'},\n",
       " {'title': '[新聞] 柯文哲違反議會決議辦雙城論壇留呆帳 北市藍綠黨團不背書',\n",
       "  'link': 'http://www.ppt.cc/bbs/Gossiping/M.1685367131.A.415.html'},\n",
       " {'title': '[新聞] 快訊／明燈動向獨家揭露！哲哲老師自爆 ',\n",
       "  'link': 'http://www.ppt.cc/bbs/Stock/M.1685341485.A.8BD.html'},\n",
       " {'title': '[新聞] 2024總統北京有「傀儡人選」？ 國安會秘書長顧立雄：操作無可置疑',\n",
       "  'link': 'http://www.ppt.cc/bbs/Gossiping/M.1685338870.A.281.html'},\n",
       " {'title': '[爆卦] 小鯰魚全球票房大仆街！！',\n",
       "  'link': 'http://www.ppt.cc/bbs/Gossiping/M.1685361248.A.808.html'},\n",
       " {'title': '[新聞] 侯友宜：核能就是我的選項 2025非核家園做不到',\n",
       "  'link': 'http://www.ppt.cc/bbs/Gossiping/M.1685329683.A.EEF.html'},\n",
       " {'title': '[新聞] 陳時中「不抽菸」滿1年！身形圓潤氣色佳自爆戒菸成功靠「5個字」',\n",
       "  'link': 'http://www.ppt.cc/bbs/Gossiping/M.1685342351.A.301.html'},\n",
       " {'title': '[新聞] 「我反對廢死」！ 侯友宜堅守唯一信念：公平正義是社會期待',\n",
       "  'link': 'http://www.ppt.cc/bbs/Gossiping/M.1685335327.A.C17.html'},\n",
       " {'title': '[新聞] 陳建仁出席打詐研討會 媒體問im.B吸金案…他微笑不回應',\n",
       "  'link': 'http://www.ppt.cc/bbs/Gossiping/M.1685336559.A.FD7.html'},\n",
       " {'title': 'Re: [新聞] 網喊《上班不要看》弄好看點！ 呱吉「理智線秒斷」怒槓：靠北什麼',\n",
       "  'link': 'http://www.ppt.cc/bbs/Gossiping/M.1685362714.A.3E4.html'},\n",
       " {'title': '[爆卦] 館長直播總統大選線上民調結果公佈',\n",
       "  'link': 'http://www.ppt.cc/bbs/Gossiping/M.1685374828.A.CF6.html'},\n",
       " {'title': '[新聞] 快訊／星巴克遭狙擊！高雄傳連續槍響 ',\n",
       "  'link': 'http://www.ppt.cc/bbs/Gossiping/M.1685327396.A.229.html'},\n",
       " {'title': '[新聞] 震撼彈！民眾黨台南爆內訌 蔡宛秦遭網攻決6/1退黨辭主委',\n",
       "  'link': 'http://www.ppt.cc/bbs/Gossiping/M.1685349031.A.747.html'},\n",
       " {'title': '[新聞] 縱火釀9死遭改判無期定讞 侯友宜：我反對廢死',\n",
       "  'link': 'http://www.ppt.cc/bbs/Gossiping/M.1685331500.A.C72.html'},\n",
       " {'title': '[新聞] 台灣肥胖率飆破50％！超過日本10倍 網揭4大主因：懶得跟豬一樣',\n",
       "  'link': 'http://www.ppt.cc/bbs/Gossiping/M.1685366212.A.7C2.html'},\n",
       " {'title': '[新聞] 「史上最兇」迪士尼公主！小美人魚8套禮服「誠意滿滿」百萬粉瘋看',\n",
       "  'link': 'http://www.ppt.cc/bbs/Gossiping/M.1685352859.A.019.html'},\n",
       " {'title': '[新聞] 巴哈姆特女版主遭惡整！蝦皮帳戶被綁、手機停話 仇家認罪：我試了1萬多次密碼',\n",
       "  'link': 'http://www.ppt.cc/bbs/Gossiping/M.1685364554.A.4DB.html'},\n",
       " {'title': '[新聞] 青年失業率11.75% 平均待業99天創10年新高',\n",
       "  'link': 'http://www.ppt.cc/bbs/Gossiping/M.1685352154.A.8CB.html'},\n",
       " {'title': '[新聞] 賴：居住正義 當選總統重要工作',\n",
       "  'link': 'http://www.ppt.cc/bbs/Gossiping/M.1685324654.A.56A.html'},\n",
       " {'title': '[新聞] 乘客叫囂掏槍！公車司機怒了「邊開車邊射回去」 激烈駁火畫面曝',\n",
       "  'link': 'http://www.ppt.cc/bbs/Gossiping/M.1685332327.A.C92.html'},\n",
       " {'title': 'Re: [新聞] 震撼彈！民眾黨台南爆內訌 蔡宛秦遭網攻決6/1退黨辭主委',\n",
       "  'link': 'http://www.ppt.cc/bbs/Gossiping/M.1685351895.A.290.html'},\n",
       " {'title': '[新聞] 買氣衰退比金融海嘯慘 高雄建商公會怒：產業邁入高風險',\n",
       "  'link': 'http://www.ppt.cc/bbs/Gossiping/M.1685337448.A.8F6.html'},\n",
       " {'title': '[新聞] 千度用電6月每度飆7.6元 百萬租客「剉咧等」',\n",
       "  'link': 'http://www.ppt.cc/bbs/Gossiping/M.1685326350.A.77A.html'},\n",
       " {'title': '[新聞] 真人版《小美人魚》烏蘇拉慘收歧視被罵爆？彩妝師不忍了正面回噴：荒謬',\n",
       "  'link': 'http://www.ppt.cc/bbs/movie/M.1685331224.A.811.html'},\n",
       " {'title': '[新聞] 答不出來就講「這一句」？ 議員酸蔣萬安變「安安答錄機」',\n",
       "  'link': 'http://www.ppt.cc/bbs/Gossiping/M.1685350105.A.639.html'},\n",
       " {'title': '[新聞] 賴清德非核家園跳票？侯友宜表態：核能就是我的選項',\n",
       "  'link': 'http://www.ppt.cc/bbs/Gossiping/M.1685331977.A.C8D.html'},\n",
       " {'title': 'Re: [新聞] 美麗島最新總統民調出爐！侯友宜支持',\n",
       "  'link': 'http://www.ppt.cc/bbs/Gossiping/M.1685353926.A.F71.html'},\n",
       " {'title': '[新聞] 飯店驚魂！多名陌生醉男深夜闖進房間 女子嚇壞提告',\n",
       "  'link': 'http://www.ppt.cc/bbs/Gossiping/M.1685323244.A.6CA.html'},\n",
       " {'title': '[新聞] 賴清德拋「緊急時啟用停運核能機組」 綠委急澄清：反核方向不變',\n",
       "  'link': 'http://www.ppt.cc/bbs/Gossiping/M.1685330987.A.EE8.html'},\n",
       " {'title': '[新聞] 不能要台積電不要核電 柯文哲談能源：核四廠蓋也對、不蓋也對',\n",
       "  'link': 'http://www.ppt.cc/bbs/Gossiping/M.1685322278.A.362.html'},\n",
       " {'title': '[新聞] PLG下季變化 陳建州：對台籃好總冠軍賽後都能談',\n",
       "  'link': 'http://www.ppt.cc/bbs/basketballTW/M.1685356936.A.EAF.html'},\n",
       " {'title': 'Re: [新聞] 美麗島最新總統民調出爐！侯友宜支持度剩18.3%崩盤 被柯文哲彎道超車逾7%',\n",
       "  'link': 'http://www.ppt.cc/bbs/Gossiping/M.1685353270.A.E24.html'},\n",
       " {'title': '[新聞] 李正皓被爆偷拍 line前女友提李宗瑞：別弄我！影片自然會消失',\n",
       "  'link': 'http://www.ppt.cc/bbs/Gossiping/M.1685350898.A.571.html'},\n",
       " {'title': '[新聞] 蔡政府推2030雙語政策能達成？柯文哲稱「別幻想一天改變」：新加坡花了28年',\n",
       "  'link': 'http://www.ppt.cc/bbs/Gossiping/M.1685322376.A.097.html'},\n",
       " {'title': '[新聞] 台船董座鄭文隆宣布潛艦國造好消息首艘IDS原型艦9月亮相下水',\n",
       "  'link': 'http://www.ppt.cc/bbs/Military/M.1685336117.A.0B0.html'},\n",
       " {'title': '[新聞] 《小美人魚》奪全美票房冠軍 外媒：迪士',\n",
       "  'link': 'http://www.ppt.cc/bbs/movie/M.1685358802.A.058.html'},\n",
       " {'title': '[新聞] 快訊／LaLaport大停電！民眾摸黑用午餐 ',\n",
       "  'link': 'http://www.ppt.cc/bbs/Gossiping/M.1685341277.A.1C1.html'},\n",
       " {'title': '[新聞] 美國街頭驚見「大量喪屍」 白宮緊急發出警告',\n",
       "  'link': 'http://www.ppt.cc/bbs/Gossiping/M.1685349149.A.056.html'},\n",
       " {'title': '[新聞] 快訊／強強聯手！黃仁勳驚喜現身聯發科記者會 下步合作受矚目',\n",
       "  'link': 'http://www.ppt.cc/bbs/Stock/M.1685342960.A.966.html'},\n",
       " {'title': '[新聞] 影評對海莉貝莉《小美人魚》演出一致好評',\n",
       "  'link': 'http://www.ppt.cc/bbs/movie/M.1685376034.A.23C.html'},\n",
       " {'title': '[新聞] 郭柯合有譜？郭台銘明赴金門 和柯文哲一起參加遶境',\n",
       "  'link': 'http://www.ppt.cc/bbs/Gossiping/M.1685357412.A.210.html'},\n",
       " {'title': '[新聞] 開片票房破億美元！小美人魚熱吻男友',\n",
       "  'link': 'http://www.ppt.cc/bbs/movie/M.1685322690.A.B03.html'},\n",
       " {'title': '[新聞] 台灣人害慘觀光客？狂掃1.1億貨逃稅千萬元 日本出手改免稅制「先收10%稅」',\n",
       "  'link': 'http://www.ppt.cc/bbs/Gossiping/M.1685340887.A.3FE.html'},\n",
       " {'title': '[新聞] 雞排妹談黑箱喊「徵召不都這樣？」 周玉蔻籲民進黨：該懸崖勒馬了',\n",
       "  'link': 'http://www.ppt.cc/bbs/Gossiping/M.1685324016.A.DC6.html'}]"
      ]
     },
     "execution_count": 17,
     "metadata": {},
     "output_type": "execute_result"
    }
   ],
   "source": [
    "articles"
   ]
  },
  {
   "cell_type": "code",
   "execution_count": 26,
   "id": "7d8f6690",
   "metadata": {},
   "outputs": [
    {
     "ename": "ModuleNotFoundError",
     "evalue": "No module named 'jieba'",
     "output_type": "error",
     "traceback": [
      "\u001b[0;31m---------------------------------------------------------------------------\u001b[0m",
      "\u001b[0;31mModuleNotFoundError\u001b[0m                       Traceback (most recent call last)",
      "\u001b[0;32m/var/folders/3w/gzrpckg15gj1cxgt9k1py7m40000gn/T/ipykernel_1706/1156615694.py\u001b[0m in \u001b[0;36m<module>\u001b[0;34m\u001b[0m\n\u001b[0;32m----> 1\u001b[0;31m \u001b[0;32mimport\u001b[0m \u001b[0mjieba\u001b[0m\u001b[0;34m\u001b[0m\u001b[0;34m\u001b[0m\u001b[0m\n\u001b[0m\u001b[1;32m      2\u001b[0m \u001b[0;32mimport\u001b[0m \u001b[0mmatplotlib\u001b[0m\u001b[0;34m.\u001b[0m\u001b[0mpyploy\u001b[0m \u001b[0;32mas\u001b[0m \u001b[0mplt\u001b[0m\u001b[0;34m\u001b[0m\u001b[0;34m\u001b[0m\u001b[0m\n\u001b[1;32m      3\u001b[0m \u001b[0;32mfrom\u001b[0m \u001b[0mwordcloud\u001b[0m \u001b[0;32mimport\u001b[0m \u001b[0mWordCloud\u001b[0m\u001b[0;34m\u001b[0m\u001b[0;34m\u001b[0m\u001b[0m\n",
      "\u001b[0;31mModuleNotFoundError\u001b[0m: No module named 'jieba'"
     ]
    }
   ],
   "source": [
    "import jieba \n",
    "import matplotlib.pyploy as plt\n",
    "from wordcloud import WordCloud"
   ]
  },
  {
   "cell_type": "code",
   "execution_count": null,
   "id": "3129c3fb",
   "metadata": {},
   "outputs": [],
   "source": []
  }
 ],
 "metadata": {
  "kernelspec": {
   "display_name": "Python 3 (ipykernel)",
   "language": "python",
   "name": "python3"
  },
  "language_info": {
   "codemirror_mode": {
    "name": "ipython",
    "version": 3
   },
   "file_extension": ".py",
   "mimetype": "text/x-python",
   "name": "python",
   "nbconvert_exporter": "python",
   "pygments_lexer": "ipython3",
   "version": "3.9.13"
  }
 },
 "nbformat": 4,
 "nbformat_minor": 5
}
