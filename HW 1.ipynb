{
 "cells": [
  {
   "cell_type": "code",
   "execution_count": 92,
   "id": "5a2492a5",
   "metadata": {},
   "outputs": [
    {
     "name": "stdout",
     "output_type": "stream",
     "text": [
      "此筆資料總共有幾筆？ 762 筆\n"
     ]
    }
   ],
   "source": [
    "#此筆資料總共有幾筆？\n",
    "import pandas as pd\n",
    "df = pd.read_csv('women-results.csv')\n",
    "num_rows = len(df)\n",
    "print('此筆資料總共有幾筆？',num_rows,'筆')"
   ]
  },
  {
   "cell_type": "code",
   "execution_count": 89,
   "id": "1b7b412c",
   "metadata": {},
   "outputs": [
    {
     "name": "stdout",
     "output_type": "stream",
     "text": [
      "  Gender         Event Location  Year Medal         Name Nationality   Result\n",
      "0      W  10000M Women      Rio  2016     G  Almaz AYANA         ETH  29:17.4    Gender       Event   Location  Year Medal                Name Nationality  \\\n",
      "85      W  100M Women  Amsterdam  1928     G  Elizabeth ROBINSON         USA   \n",
      "\n",
      "   Result  \n",
      "85   12.2  \n"
     ]
    }
   ],
   "source": [
    "# 資料開始與結束年？\n",
    "\n",
    "start_year = df.nlargest(1,'Year')\n",
    "end_year = df.nsmallest(1,'Year')\n",
    "\n",
    "print(start_year,end_year)\n"
   ]
  },
  {
   "cell_type": "code",
   "execution_count": 4,
   "id": "a534fd5c",
   "metadata": {},
   "outputs": [
    {
     "name": "stdout",
     "output_type": "stream",
     "text": [
      "23\n"
     ]
    }
   ],
   "source": [
    "#此資料的比賽項目有幾個？\n",
    "\n",
    "num_unique = df['Event'].nunique()\n",
    "print(num_unique)"
   ]
  },
  {
   "cell_type": "code",
   "execution_count": 5,
   "id": "e0a3b526",
   "metadata": {},
   "outputs": [
    {
     "name": "stdout",
     "output_type": "stream",
     "text": [
      "['10000M Women' '100M Hurdles Women' '100M Women' '1500M Women'\n",
      " '200M Women' '20Km Race Walk Women' '3000M Steeplechase Women'\n",
      " '400M Hurdles Women' '400M Women' '4X100M Relay Women'\n",
      " '4X400M Relay Women' '5000M Women' '800M Women' 'Discus Throw Women'\n",
      " 'Hammer Throw Women' 'Heptathlon Women' 'High Jump Women'\n",
      " 'Javelin Throw Women' 'Long Jump Women' 'Marathon Women'\n",
      " 'Pole Vault Women' 'Shot Put Women' 'Triple Jump Women']\n"
     ]
    }
   ],
   "source": [
    "#這23個比賽項目分別是哪些？\n",
    "unique_items = df['Event'].unique()\n",
    "print(unique_items)"
   ]
  },
  {
   "cell_type": "code",
   "execution_count": 71,
   "id": "6276abc4",
   "metadata": {},
   "outputs": [
    {
     "name": "stdout",
     "output_type": "stream",
     "text": [
      "Gender                    W\n",
      "Event          10000M Women\n",
      "Location                Rio\n",
      "Year                   2016\n",
      "Medal                     G\n",
      "Name            Almaz AYANA\n",
      "Nationality             ETH\n",
      "Result              29:17.4\n",
      "Name: 0, dtype: object\n",
      "\n",
      "Gender                          W\n",
      "Event          100M Hurdles Women\n",
      "Location                   London\n",
      "Year                         2012\n",
      "Medal                           G\n",
      "Name                Sally PEARSON\n",
      "Nationality                   AUS\n",
      "Result                      12.35\n",
      "Name: 40, dtype: object\n",
      "\n",
      "Gender                       W\n",
      "Event               100M Women\n",
      "Location                   Rio\n",
      "Year                      2016\n",
      "Medal                        G\n",
      "Name           Elaine THOMPSON\n",
      "Nationality                JAM\n",
      "Result                   10.71\n",
      "Name: 55, dtype: object\n",
      "\n",
      "Gender                        W\n",
      "Event           High Jump Women\n",
      "Location                 Athens\n",
      "Year                       2004\n",
      "Medal                         G\n",
      "Name           Elena SLESARENKO\n",
      "Nationality                 RUS\n",
      "Result                     2.06\n",
      "Name: 560, dtype: object\n",
      "\n",
      "Gender                       W\n",
      "Event           Marathon Women\n",
      "Location                Sydney\n",
      "Year                      2000\n",
      "Medal                        G\n",
      "Name           Naoko TAKAHASHI\n",
      "Nationality                JPN\n",
      "Result                02h23:14\n",
      "Name: 669, dtype: object\n",
      "\n"
     ]
    }
   ],
   "source": [
    "#10000M Women 最佳成績？\n",
    "filtered_df = df[df['Event']=='10000M Women']\n",
    "sorted_filtered_df = filtered_df.sort_values('Result')\n",
    "first_row = sorted_filtered_df.iloc[0]\n",
    "print(first_row)\n",
    "print()\n",
    "\n",
    "#100M Herdles Women 最佳成績？\n",
    "A = df[df['Event']=='100M Hurdles Women']\n",
    "AA = A.sort_values('Result')\n",
    "AAA = AA.iloc[0]\n",
    "print(AAA)\n",
    "print()\n",
    "\n",
    "#100M Women 最佳成績？\n",
    "B = df[df['Event']=='100M Women']\n",
    "BB = B.sort_values('Result')\n",
    "BBB = BB.iloc[0]\n",
    "print(BBB)\n",
    "print()\n",
    "\n",
    "#High Jump Women 最佳成績？\n",
    "C = df[df['Event']=='High Jump Women']\n",
    "CC = C.sort_values('Result')\n",
    "CCC = CC.iloc[-4]\n",
    "print(CCC)\n",
    "print()\n",
    "\n",
    "#Marathon Women 最佳成績？\n",
    "D = df[df['Event']=='Marathon Women']\n",
    "DD = D.sort_values('Result')\n",
    "DDD = DD.iloc[0]\n",
    "print(DDD)\n",
    "print()"
   ]
  },
  {
   "cell_type": "code",
   "execution_count": 74,
   "id": "7ecbac42",
   "metadata": {},
   "outputs": [
    {
     "name": "stdout",
     "output_type": "stream",
     "text": [
      "0                    Almaz AYANA\n",
      "1      Vivian Jepkemoi CHERUIYOT\n",
      "2                Tirunesh DIBABA\n",
      "3                Tirunesh DIBABA\n",
      "4              Elvan ABEYLEGESSE\n",
      "                 ...            \n",
      "753                Olga RYPAKOVA\n",
      "754            Caterine IBARGUEN\n",
      "756       Francoise MBANGO ETONE\n",
      "758             Tatyana LEBEDEVA\n",
      "759               Inessa KRAVETS\n",
      "Name: Name, Length: 381, dtype: object\n"
     ]
    }
   ],
   "source": [
    "#有沒有人不只比賽一次？\n",
    "\n",
    "duplicated_values = df['Name'].duplicated(keep=False)\n",
    "if duplicated_values.any():\n",
    "    print(df.loc[duplicated_values,'Name'])\n",
    "else:\n",
    "    print('沒有找到重複值')"
   ]
  },
  {
   "cell_type": "code",
   "execution_count": 78,
   "id": "94227b2a",
   "metadata": {},
   "outputs": [
    {
     "name": "stdout",
     "output_type": "stream",
     "text": [
      "比賽超過兩次的人\n",
      "Vivian Jepkemoi CHERUIYOT\n",
      "Tirunesh DIBABA\n",
      "Derartu TULU\n",
      "Gete WAMI\n",
      "Shelly-Ann FRASER-PRYCE\n",
      "Merlene OTTEY\n",
      "Renate STECHER\n",
      "Irena KIRSZENSTEIN\n",
      "Veronica CAMPBELL-BROWN\n",
      "Raelene Ann BOYLE\n",
      "Betty CUTHBERT\n",
      "Gabriela SZABO\n",
      "Tatiana KAZANKINA\n",
      "Gunhild HOFFMEISTER\n",
      "Kelly HOLMES\n",
      "Allyson FELIX\n",
      "Marie-JosÃ© PÃ‰REC\n",
      "Meseret DEFAR\n",
      "Lia MANOLIU\n",
      "Tamara PRESS\n",
      "Jackie JOYNER\n",
      "Aleksandra CHUDINA\n",
      "Barbora SPOTAKOVA\n",
      "Tatyana LEBEDEVA\n",
      "Yelena ISINBAEVA\n",
      "Valerie ADAMS\n",
      "Nadezhda CHIZHOVA\n"
     ]
    }
   ],
   "source": [
    "#有誰比賽超過兩次的？\n",
    "\n",
    "more_than_two_games = df.groupby('Name').filter(lambda x:len(x)>2)['Name'].unique()\n",
    "if len(more_than_two_games)>0:\n",
    "    print('比賽超過兩次的人')\n",
    "    for name in more_than_two_games:\n",
    "        print(name)\n",
    "else:\n",
    "    print('沒有找到比賽超過兩次的人')"
   ]
  },
  {
   "cell_type": "code",
   "execution_count": 80,
   "id": "2ba5d54b",
   "metadata": {},
   "outputs": [
    {
     "name": "stdout",
     "output_type": "stream",
     "text": [
      "比賽超過兩次的人 27 個\n"
     ]
    }
   ],
   "source": [
    "#比賽超過兩次的人有幾個？\n",
    "num_more_than_two_games = len(more_than_two_games)\n",
    "print('比賽超過兩次的人',num_more_than_two_games,'個')"
   ]
  },
  {
   "cell_type": "code",
   "execution_count": null,
   "id": "f2521865",
   "metadata": {},
   "outputs": [],
   "source": []
  }
 ],
 "metadata": {
  "kernelspec": {
   "display_name": "Python 3 (ipykernel)",
   "language": "python",
   "name": "python3"
  },
  "language_info": {
   "codemirror_mode": {
    "name": "ipython",
    "version": 3
   },
   "file_extension": ".py",
   "mimetype": "text/x-python",
   "name": "python",
   "nbconvert_exporter": "python",
   "pygments_lexer": "ipython3",
   "version": "3.9.13"
  }
 },
 "nbformat": 4,
 "nbformat_minor": 5
}
